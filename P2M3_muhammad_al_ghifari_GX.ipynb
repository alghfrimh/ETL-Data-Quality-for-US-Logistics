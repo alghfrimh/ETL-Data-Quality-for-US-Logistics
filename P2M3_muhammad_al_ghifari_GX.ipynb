{
 "cells": [
  {
   "cell_type": "markdown",
   "id": "ba3060f2",
   "metadata": {},
   "source": [
    "## 1. Introduction"
   ]
  },
  {
   "cell_type": "markdown",
   "id": "dd238f14",
   "metadata": {},
   "source": [
    "---\n",
    "**Milestone 3**\n",
    "\n",
    "Nama    : Muhammad Al Ghifari\n",
    "\n",
    "Batch   : FTDS-HKC-030\n",
    "\n",
    "<div align=\"justify\">\n",
    "\n",
    "Objective\n",
    "\n",
    "Great Expectations digunakan untuk menjaga kualitas data tetap konsisten dan sesuai standard yang sudah ditetapkan, sebelum data dipakai lebih lanjut untuk analisis maupun visualisasi. Dengan adanya validasi otomatis ini, saya dapat lebih cepat menemukan masalah seperti adanya missing values, tipe data yang tidak valid, kolom yang hilang, atau distribusi data yang tidak wajar. Dengan begitu, risiko kesalahan analisis akibat data yang kurang berkualitas dapat diminimalkan.\n",
    "\n",
    "---"
   ]
  },
  {
   "cell_type": "markdown",
   "id": "dc108f66",
   "metadata": {},
   "source": [
    "## 2. Import Libraries"
   ]
  },
  {
   "cell_type": "markdown",
   "id": "f72cf3f5",
   "metadata": {},
   "source": [
    "<div align=\"justify\">\n",
    "\n",
    "Sebelum melakukan Data Loading, saya terlebih dahulu memasukkan beberapa library yang akan digunakan selama proses Great Expectations ini."
   ]
  },
  {
   "cell_type": "code",
   "execution_count": 1,
   "id": "92c50489",
   "metadata": {},
   "outputs": [
    {
     "name": "stdout",
     "output_type": "stream",
     "text": [
      "Versi Pandas : 2.1.4\n",
      "Versi Great Expectations : 0.18.22\n"
     ]
    }
   ],
   "source": [
    "import pandas as pd\n",
    "from pathlib import Path\n",
    "import great_expectations as gx\n",
    "from great_expectations.core.batch import RuntimeBatchRequest\n",
    "\n",
    "print('Versi Pandas :', pd.__version__)\n",
    "print('Versi Great Expectations :', gx.__version__)"
   ]
  },
  {
   "cell_type": "markdown",
   "id": "b5566e7c",
   "metadata": {},
   "source": [
    "<div align=\"justify\">\n",
    "\n",
    "Library tersebut mencakup :\n",
    "\n",
    "1. `pandas (pd)`: membaca & manipulasi data tabular (DataFrame).\n",
    "\n",
    "2. `pathlib.Path`: mengelola path file/folder yang portable antar OS (mis. Path(csv).resolve()).\n",
    "\n",
    "3. `Great Expectations (gx)`: melakukan validasi kualitas data (expectations, validator, checkpoint, Data Docs).\n",
    "\n",
    "4. `RuntimeBatchRequest`: mengirim DataFrame in-memory ke GX (runtime) tanpa membaca file ulang."
   ]
  },
  {
   "cell_type": "markdown",
   "id": "e9686bb9",
   "metadata": {},
   "source": [
    "## 3. Data Loading"
   ]
  },
  {
   "cell_type": "markdown",
   "id": "758e5286",
   "metadata": {},
   "source": [
    "<div align=\"justify\">\n",
    "\n",
    "Disini saya mulai dengan pembacaan data cleaned dari hasil preprocessing dan menggunakan `parse` agar kolom `shipment_date` serta `delivery_date` dapat dibaca berdasarkan format tanggal yang benar (datetime)."
   ]
  },
  {
   "cell_type": "code",
   "execution_count": 2,
   "id": "763b089b",
   "metadata": {},
   "outputs": [],
   "source": [
    "# Load dataset hasil preprocessing\n",
    "csv_path = \"./data/P2M3_muhammad_al_ghifari_data_cleaned.csv\"\n",
    "df = pd.read_csv(csv_path, parse_dates=[\"shipment_date\", \"delivery_date\"])"
   ]
  },
  {
   "cell_type": "markdown",
   "id": "283f9cd8",
   "metadata": {},
   "source": [
    "<div align=\"justify\">\n",
    "\n",
    " Setelah itu, saya membuat variabel objek Great Expectations (`get_context()`), lalu membuat datasource runtime supaya GX bisa memakai DataFrame ini langsung tanpa baca file lagi.  Saya juga mendefinisikan Expectation Suite (kumpulan aturan cek data) dengan nama project saya, lalu membungkus dataset ke `RuntimeBatchRequest` dan membuat `validator` sebagai tool yang dipakai untuk menulis aturan (expectations), menjalankannya ke data, serta menjadi acuan saat menyimpan suite dan mengeksekusi checkpoint."
   ]
  },
  {
   "cell_type": "code",
   "execution_count": 3,
   "id": "9d9fe967",
   "metadata": {},
   "outputs": [
    {
     "data": {
      "application/vnd.jupyter.widget-view+json": {
       "model_id": "de17fda943d04c83898b1f5b3b2d1fc0",
       "version_major": 2,
       "version_minor": 0
      },
      "text/plain": [
       "Calculating Metrics:   0%|          | 0/1 [00:00<?, ?it/s]"
      ]
     },
     "metadata": {},
     "output_type": "display_data"
    },
    {
     "data": {
      "text/html": [
       "<div>\n",
       "<style scoped>\n",
       "    .dataframe tbody tr th:only-of-type {\n",
       "        vertical-align: middle;\n",
       "    }\n",
       "\n",
       "    .dataframe tbody tr th {\n",
       "        vertical-align: top;\n",
       "    }\n",
       "\n",
       "    .dataframe thead th {\n",
       "        text-align: right;\n",
       "    }\n",
       "</style>\n",
       "<table border=\"1\" class=\"dataframe\">\n",
       "  <thead>\n",
       "    <tr style=\"text-align: right;\">\n",
       "      <th></th>\n",
       "      <th>shipment_id</th>\n",
       "      <th>origin_warehouse</th>\n",
       "      <th>destination</th>\n",
       "      <th>carrier</th>\n",
       "      <th>shipment_date</th>\n",
       "      <th>delivery_date</th>\n",
       "      <th>weight_kg</th>\n",
       "      <th>cost</th>\n",
       "      <th>status</th>\n",
       "      <th>distance_miles</th>\n",
       "      <th>transit_days</th>\n",
       "    </tr>\n",
       "  </thead>\n",
       "  <tbody>\n",
       "    <tr>\n",
       "      <th>0</th>\n",
       "      <td>SH10000</td>\n",
       "      <td>Warehouse_MIA</td>\n",
       "      <td>San Francisco</td>\n",
       "      <td>UPS</td>\n",
       "      <td>2023-10-02</td>\n",
       "      <td>2023-10-04</td>\n",
       "      <td>25.7</td>\n",
       "      <td>67.46</td>\n",
       "      <td>Delivered</td>\n",
       "      <td>291</td>\n",
       "      <td>2</td>\n",
       "    </tr>\n",
       "    <tr>\n",
       "      <th>1</th>\n",
       "      <td>SH10001</td>\n",
       "      <td>Warehouse_MIA</td>\n",
       "      <td>Atlanta</td>\n",
       "      <td>DHL</td>\n",
       "      <td>2023-12-06</td>\n",
       "      <td>2023-12-09</td>\n",
       "      <td>38.9</td>\n",
       "      <td>268.85</td>\n",
       "      <td>Delivered</td>\n",
       "      <td>1225</td>\n",
       "      <td>3</td>\n",
       "    </tr>\n",
       "    <tr>\n",
       "      <th>2</th>\n",
       "      <td>SH10002</td>\n",
       "      <td>Warehouse_LA</td>\n",
       "      <td>Houston</td>\n",
       "      <td>DHL</td>\n",
       "      <td>2023-09-18</td>\n",
       "      <td>2023-09-20</td>\n",
       "      <td>37.2</td>\n",
       "      <td>74.35</td>\n",
       "      <td>Delivered</td>\n",
       "      <td>220</td>\n",
       "      <td>2</td>\n",
       "    </tr>\n",
       "    <tr>\n",
       "      <th>3</th>\n",
       "      <td>SH10003</td>\n",
       "      <td>Warehouse_BOS</td>\n",
       "      <td>Seattle</td>\n",
       "      <td>OnTrac</td>\n",
       "      <td>2023-01-26</td>\n",
       "      <td>2023-02-04</td>\n",
       "      <td>42.6</td>\n",
       "      <td>187.04</td>\n",
       "      <td>Delivered</td>\n",
       "      <td>1156</td>\n",
       "      <td>9</td>\n",
       "    </tr>\n",
       "    <tr>\n",
       "      <th>4</th>\n",
       "      <td>SH10004</td>\n",
       "      <td>Warehouse_SF</td>\n",
       "      <td>Dallas</td>\n",
       "      <td>OnTrac</td>\n",
       "      <td>2023-06-03</td>\n",
       "      <td>2023-06-06</td>\n",
       "      <td>7.9</td>\n",
       "      <td>120.01</td>\n",
       "      <td>Delivered</td>\n",
       "      <td>1017</td>\n",
       "      <td>3</td>\n",
       "    </tr>\n",
       "  </tbody>\n",
       "</table>\n",
       "</div>"
      ],
      "text/plain": [
       "  shipment_id origin_warehouse    destination carrier shipment_date  \\\n",
       "0     SH10000    Warehouse_MIA  San Francisco     UPS    2023-10-02   \n",
       "1     SH10001    Warehouse_MIA        Atlanta     DHL    2023-12-06   \n",
       "2     SH10002     Warehouse_LA        Houston     DHL    2023-09-18   \n",
       "3     SH10003    Warehouse_BOS        Seattle  OnTrac    2023-01-26   \n",
       "4     SH10004     Warehouse_SF         Dallas  OnTrac    2023-06-03   \n",
       "\n",
       "  delivery_date  weight_kg    cost     status  distance_miles  transit_days  \n",
       "0    2023-10-04       25.7   67.46  Delivered             291             2  \n",
       "1    2023-12-09       38.9  268.85  Delivered            1225             3  \n",
       "2    2023-09-20       37.2   74.35  Delivered             220             2  \n",
       "3    2023-02-04       42.6  187.04  Delivered            1156             9  \n",
       "4    2023-06-06        7.9  120.01  Delivered            1017             3  "
      ]
     },
     "execution_count": 3,
     "metadata": {},
     "output_type": "execute_result"
    }
   ],
   "source": [
    "# Load the GE context\n",
    "context = gx.get_context()\n",
    "\n",
    "# Menambah Datasource \"runtime\" agar GE bisa pakai DataFrame\n",
    "context.add_or_update_datasource(\n",
    "    name=\"runtime_pandas_datasource\",\n",
    "    class_name=\"Datasource\",\n",
    "    execution_engine={\"class_name\": \"PandasExecutionEngine\"},\n",
    "    data_connectors={\n",
    "        \"default_runtime_data_connector_name\": {\n",
    "            \"class_name\": \"RuntimeDataConnector\",\n",
    "            \"batch_identifiers\": [\"default_identifier_name\"]}})\n",
    "\n",
    "# Membuat nama Expectation Suite (kumpulan aturan cek data)\n",
    "expectation_suite_name = 'P2M3_data_suite_muhammad_al_ghifari'\n",
    "\n",
    "# Membuat/memperbarui Expectation Suite di context\n",
    "context.add_or_update_expectation_suite(expectation_suite_name)\n",
    "\n",
    "# Membungkus dataset menjadi batch runtime (akan divalidasi)\n",
    "batch_request_for_validator = RuntimeBatchRequest(\n",
    "    datasource_name= \"runtime_pandas_datasource\",\n",
    "    data_connector_name= \"default_runtime_data_connector_name\",\n",
    "    data_asset_name= \"P2M3_muhammad_al_ghifari_data_cleaned\", \n",
    "    runtime_parameters= {\"batch_data\": df}, \n",
    "    batch_identifiers= {\"default_identifier_name\": \"id\"})\n",
    "\n",
    "# Membuat objek validator untuk menulis & menjalankan semua expectation\n",
    "validator = context.get_validator(\n",
    "    batch_request = batch_request_for_validator,\n",
    "    expectation_suite_name = expectation_suite_name)\n",
    "\n",
    "validator.head()"
   ]
  },
  {
   "cell_type": "markdown",
   "id": "54a65fbe",
   "metadata": {},
   "source": [
    "<div align=\"justify\">\n",
    "\n",
    "## 4. Validation\n",
    "\n",
    "Setelah seluruh komponen siap, saya menjalankan proses validasi dengan aturan berikut:\n",
    "\n",
    "**1. To be Unique**\n",
    "\n",
    "**2. To Be Between Min Value And Max Value**\n",
    "\n",
    "**3. To Be In Set**\n",
    "\n",
    "**4. To Be In Type List**\n",
    "\n",
    "**5. To Match Regex**\n",
    "\n",
    "**6. Not To Be Null**\n",
    "\n",
    "**7. Table Columns To Match Ordered List**"
   ]
  },
  {
   "cell_type": "markdown",
   "id": "da307d25",
   "metadata": {},
   "source": [
    "### 4.1 To Be Unique"
   ]
  },
  {
   "cell_type": "code",
   "execution_count": 4,
   "id": "aeb5aed3",
   "metadata": {},
   "outputs": [
    {
     "data": {
      "application/vnd.jupyter.widget-view+json": {
       "model_id": "5d02b15fb8e14d75900896484e60226f",
       "version_major": 2,
       "version_minor": 0
      },
      "text/plain": [
       "Calculating Metrics:   0%|          | 0/8 [00:00<?, ?it/s]"
      ]
     },
     "metadata": {},
     "output_type": "display_data"
    },
    {
     "data": {
      "text/plain": [
       "{\n",
       "  \"success\": true,\n",
       "  \"result\": {\n",
       "    \"element_count\": 2000,\n",
       "    \"unexpected_count\": 0,\n",
       "    \"unexpected_percent\": 0.0,\n",
       "    \"partial_unexpected_list\": [],\n",
       "    \"missing_count\": 0,\n",
       "    \"missing_percent\": 0.0,\n",
       "    \"unexpected_percent_total\": 0.0,\n",
       "    \"unexpected_percent_nonmissing\": 0.0\n",
       "  },\n",
       "  \"meta\": {},\n",
       "  \"exception_info\": {\n",
       "    \"raised_exception\": false,\n",
       "    \"exception_traceback\": null,\n",
       "    \"exception_message\": null\n",
       "  }\n",
       "}"
      ]
     },
     "execution_count": 4,
     "metadata": {},
     "output_type": "execute_result"
    }
   ],
   "source": [
    "validator.expect_column_values_to_be_unique(column=\"shipment_id\")"
   ]
  },
  {
   "cell_type": "markdown",
   "id": "646de26b",
   "metadata": {},
   "source": [
    "<div align=\"justify\">\n",
    "\n",
    "Berdasarkan Hasil Validasi GX:\n",
    "\n",
    "1. Data Quality: Nilai unexpected_count adalah 0 dan unexpected_percent juga 0.0%, menunjukkan bahwa semua data (2000 elemen) sesuai dengan ekspektasi yang telah didefinisikan. Ini adalah indikator kuat bahwa proses ETL dan pembersihan data efektif.\n",
    "\n",
    "2. Kelengkapan Data: Nilai `missing_count` adalah 0 dan `missing_percent` juga 0.0%, yang berarti tidak ada nilai yang hilang (missing values) dalam data yang divalidasi. Ini memastikan integritas dan kelengkapan dataset.\n",
    "\n",
    "3. Kesiapan Data: Dengan tidak adanya unexpected values dan missing values, data watchsales yang dihasilkan dari proses ETL berada dalam kondisi yang bersih dan siap sepenuhnya untuk tahap analisis lebih lanjut beserta visualisasi.\n",
    "\n",
    "4. ETL Effectiveness: Hasil ini secara langsung memvalidasi keberhasilan project ETL. Data yang dihasilkan benar-benar \"bersih\" seperti yang menjadi tujuan utama."
   ]
  },
  {
   "cell_type": "markdown",
   "id": "bf94e7fb",
   "metadata": {},
   "source": [
    "### 4.2 To Be Between Min Value And Max Value"
   ]
  },
  {
   "cell_type": "code",
   "execution_count": 5,
   "id": "c9bd2a31",
   "metadata": {},
   "outputs": [
    {
     "data": {
      "application/vnd.jupyter.widget-view+json": {
       "model_id": "135ed6c0bcd54cfe96243417ce4bfcf6",
       "version_major": 2,
       "version_minor": 0
      },
      "text/plain": [
       "Calculating Metrics:   0%|          | 0/8 [00:00<?, ?it/s]"
      ]
     },
     "metadata": {},
     "output_type": "display_data"
    },
    {
     "data": {
      "text/plain": [
       "{\n",
       "  \"success\": true,\n",
       "  \"result\": {\n",
       "    \"element_count\": 2000,\n",
       "    \"unexpected_count\": 0,\n",
       "    \"unexpected_percent\": 0.0,\n",
       "    \"partial_unexpected_list\": [],\n",
       "    \"missing_count\": 0,\n",
       "    \"missing_percent\": 0.0,\n",
       "    \"unexpected_percent_total\": 0.0,\n",
       "    \"unexpected_percent_nonmissing\": 0.0\n",
       "  },\n",
       "  \"meta\": {},\n",
       "  \"exception_info\": {\n",
       "    \"raised_exception\": false,\n",
       "    \"exception_traceback\": null,\n",
       "    \"exception_message\": null\n",
       "  }\n",
       "}"
      ]
     },
     "execution_count": 5,
     "metadata": {},
     "output_type": "execute_result"
    }
   ],
   "source": [
    "validator.expect_column_values_to_be_between(\"transit_days\", min_value=0, max_value=15)"
   ]
  },
  {
   "cell_type": "markdown",
   "id": "229b5fe8",
   "metadata": {},
   "source": [
    "<div align=\"justify\">\n",
    "\n",
    "Berdasarkan Hasil Validasi GX:\n",
    "\n",
    "1. Sudah True (Sudah Sesuai Dengan Rule Yang Dibuat), Yaitu Hasil Value Pada `transit_days` telah berada didalam Min - Max Value yang sesuai.\n",
    "\n",
    "2. Data Quality: Nilai `unexpected_count` adalah 0 dan `unexpected_percent` juga 0.0%, menunjukkan bahwa semua data (2000 elemen) sesuai dengan ekspektasi yang telah didefinisikan. Ini adalah indikator kuat bahwa proses ETL dan pembersihan data efektif.\n",
    "\n",
    "3. Kelengkapan Data: Nilai `missing_count` adalah 0 dan `missing_percent` juga 0.0%, yang berarti tidak ada nilai yang hilang (missing values) dalam data yang divalidasi. Ini memastikan integritas dan kelengkapan dataset.\n",
    "\n",
    "4. Kesiapan Data: Dengan tidak adanya unexpected values dan missing values, data watchsales yang dihasilkan dari proses ETL berada dalam kondisi 'Clean' dan siap sepenuhnya untuk tahap analisis mendalam serta visualisasi.\n",
    "\n",
    "5. ETL Effectiveness: Hasil ini secara langsung memvalidasi keberhasilan project ETL. Data yang dihasilkan benar-benar bersih yang menjadi tujuan utama."
   ]
  },
  {
   "cell_type": "markdown",
   "id": "da395a02",
   "metadata": {},
   "source": [
    "### 4.3 To Be In Set"
   ]
  },
  {
   "cell_type": "code",
   "execution_count": 6,
   "id": "49f543dd",
   "metadata": {},
   "outputs": [],
   "source": [
    "allowed_status = [\"Delivered\", \"In Transit\", \"Delayed\", \"Canceled\", \"Returned\", \"Lost\"]"
   ]
  },
  {
   "cell_type": "code",
   "execution_count": 7,
   "id": "c30875f9",
   "metadata": {},
   "outputs": [
    {
     "data": {
      "application/vnd.jupyter.widget-view+json": {
       "model_id": "25d99d1e19344e0986eb35bb3a180227",
       "version_major": 2,
       "version_minor": 0
      },
      "text/plain": [
       "Calculating Metrics:   0%|          | 0/8 [00:00<?, ?it/s]"
      ]
     },
     "metadata": {},
     "output_type": "display_data"
    },
    {
     "data": {
      "text/plain": [
       "{\n",
       "  \"success\": true,\n",
       "  \"result\": {\n",
       "    \"element_count\": 2000,\n",
       "    \"unexpected_count\": 0,\n",
       "    \"unexpected_percent\": 0.0,\n",
       "    \"partial_unexpected_list\": [],\n",
       "    \"missing_count\": 0,\n",
       "    \"missing_percent\": 0.0,\n",
       "    \"unexpected_percent_total\": 0.0,\n",
       "    \"unexpected_percent_nonmissing\": 0.0\n",
       "  },\n",
       "  \"meta\": {},\n",
       "  \"exception_info\": {\n",
       "    \"raised_exception\": false,\n",
       "    \"exception_traceback\": null,\n",
       "    \"exception_message\": null\n",
       "  }\n",
       "}"
      ]
     },
     "execution_count": 7,
     "metadata": {},
     "output_type": "execute_result"
    }
   ],
   "source": [
    "validator.expect_column_values_to_be_in_set(\"status\", allowed_status)"
   ]
  },
  {
   "cell_type": "markdown",
   "id": "2ecf60e6",
   "metadata": {},
   "source": [
    "<div align=\"justify\">\n",
    "\n",
    "Berdasarkan Hasil Validasi GX:\n",
    "\n",
    "1. Sudah True (Sudah Sesuai Dengan Rule Yang Dibuat), Yaitu Hasil Unique Values (`allowed_status`) Pada `status` Sudah Sesuai Terhadap Data Yang Didefinisikan.\n",
    "\n",
    "2. Data Quality: Nilai unexpected_count adalah 0 dan unexpected_percent juga 0.0%, menunjukkan bahwa semua data (2000 elemen) sesuai dengan ekspektasi yang telah didefinisikan. Ini adalah indikator kuat bahwa proses ETL dan pembersihan data efektif.\n",
    "\n",
    "3. Kelengkapan Data: Nilai missing_count adalah 0 dan missing_percent juga 0.0%, yang berarti tidak ada nilai yang hilang (missing values) dalam data yang divalidasi. Ini memastikan integritas dan kelengkapan dataset.\n",
    "\n",
    "4. Kesiapan Data: Dengan tidak adanya unexpected values dan missing values, data watchsales yang dihasilkan dari proses ETL berada dalam kondisi 'Clean' dan siap sepenuhnya untuk tahap analisis mendalam serta visualisasi.\n",
    "\n",
    "5. ETL Effectiveness: Hasil ini secara langsung memvalidasi keberhasilan project ETL. Data yang dihasilkan benar-benar bersih yang menjadi tujuan utama."
   ]
  },
  {
   "cell_type": "markdown",
   "id": "257d8b2d",
   "metadata": {},
   "source": [
    "### 4.4 To Be In Type List"
   ]
  },
  {
   "cell_type": "code",
   "execution_count": 8,
   "id": "be14954a",
   "metadata": {},
   "outputs": [],
   "source": [
    "allowed_dt_types = [\"datetime64[ns]\", \"datetime64[ns, UTC]\"]"
   ]
  },
  {
   "cell_type": "code",
   "execution_count": 9,
   "id": "21f7e764",
   "metadata": {},
   "outputs": [
    {
     "data": {
      "application/vnd.jupyter.widget-view+json": {
       "model_id": "3d756fdb99244c9fb9c47715a0a2e49f",
       "version_major": 2,
       "version_minor": 0
      },
      "text/plain": [
       "Calculating Metrics:   0%|          | 0/1 [00:00<?, ?it/s]"
      ]
     },
     "metadata": {},
     "output_type": "display_data"
    },
    {
     "data": {
      "text/plain": [
       "{\n",
       "  \"success\": true,\n",
       "  \"result\": {\n",
       "    \"observed_value\": \"datetime64\"\n",
       "  },\n",
       "  \"meta\": {},\n",
       "  \"exception_info\": {\n",
       "    \"raised_exception\": false,\n",
       "    \"exception_traceback\": null,\n",
       "    \"exception_message\": null\n",
       "  }\n",
       "}"
      ]
     },
     "execution_count": 9,
     "metadata": {},
     "output_type": "execute_result"
    }
   ],
   "source": [
    "validator.expect_column_values_to_be_in_type_list(\"shipment_date\", allowed_dt_types)"
   ]
  },
  {
   "cell_type": "code",
   "execution_count": 10,
   "id": "579b780c",
   "metadata": {},
   "outputs": [
    {
     "data": {
      "application/vnd.jupyter.widget-view+json": {
       "model_id": "2e34a84269ac49ed8530feb61b04a291",
       "version_major": 2,
       "version_minor": 0
      },
      "text/plain": [
       "Calculating Metrics:   0%|          | 0/1 [00:00<?, ?it/s]"
      ]
     },
     "metadata": {},
     "output_type": "display_data"
    },
    {
     "data": {
      "text/plain": [
       "{\n",
       "  \"success\": true,\n",
       "  \"result\": {\n",
       "    \"observed_value\": \"datetime64\"\n",
       "  },\n",
       "  \"meta\": {},\n",
       "  \"exception_info\": {\n",
       "    \"raised_exception\": false,\n",
       "    \"exception_traceback\": null,\n",
       "    \"exception_message\": null\n",
       "  }\n",
       "}"
      ]
     },
     "execution_count": 10,
     "metadata": {},
     "output_type": "execute_result"
    }
   ],
   "source": [
    "validator.expect_column_values_to_be_in_type_list(\"delivery_date\",  allowed_dt_types)"
   ]
  },
  {
   "cell_type": "markdown",
   "id": "b0586611",
   "metadata": {},
   "source": [
    "<div align=\"justify\">\n",
    "\n",
    "Berdasarkan Hasilnya Visualiasi GX:\n",
    "\n",
    "1. Evaluated expectations: 8\n",
    "\n",
    "2. Passed: 8 (100%)\n",
    "\n",
    "`shipment_date` & `delivery_date` terdeteksi bertipe datetime64, sehingga siap dipakai untuk analisis berbasis tanggal (filtering, perhitungan berdasarkan minggu, dsb)."
   ]
  },
  {
   "cell_type": "markdown",
   "id": "fc9b1095",
   "metadata": {},
   "source": [
    "### 4.5 To Match Regex"
   ]
  },
  {
   "cell_type": "code",
   "execution_count": 11,
   "id": "6dc0836a",
   "metadata": {},
   "outputs": [
    {
     "data": {
      "application/vnd.jupyter.widget-view+json": {
       "model_id": "472c7ba674c24881b1b43ddd75f66f0d",
       "version_major": 2,
       "version_minor": 0
      },
      "text/plain": [
       "Calculating Metrics:   0%|          | 0/8 [00:00<?, ?it/s]"
      ]
     },
     "metadata": {},
     "output_type": "display_data"
    },
    {
     "data": {
      "text/plain": [
       "{\n",
       "  \"success\": true,\n",
       "  \"result\": {\n",
       "    \"element_count\": 2000,\n",
       "    \"unexpected_count\": 0,\n",
       "    \"unexpected_percent\": 0.0,\n",
       "    \"partial_unexpected_list\": [],\n",
       "    \"missing_count\": 0,\n",
       "    \"missing_percent\": 0.0,\n",
       "    \"unexpected_percent_total\": 0.0,\n",
       "    \"unexpected_percent_nonmissing\": 0.0\n",
       "  },\n",
       "  \"meta\": {},\n",
       "  \"exception_info\": {\n",
       "    \"raised_exception\": false,\n",
       "    \"exception_traceback\": null,\n",
       "    \"exception_message\": null\n",
       "  }\n",
       "}"
      ]
     },
     "execution_count": 11,
     "metadata": {},
     "output_type": "execute_result"
    }
   ],
   "source": [
    "validator.expect_column_values_to_match_regex(\"shipment_id\", r\"^SH\\d{5}$\")"
   ]
  },
  {
   "cell_type": "markdown",
   "id": "8d609806",
   "metadata": {},
   "source": [
    "<div align=\"justify\">\n",
    "\n",
    "Berdasarkan Hasil Validasi GX:\n",
    "\n",
    "1. Sudah True (Sesuai Dengan Rule Yang Dibuat): Kolom `shipment_id` memenuhi pola regex `^SH\\d{5}$` (prefix SH diikuti tepat 5 digit).\n",
    "\n",
    "2. Data Quality: `unexpected_count` = 0 dan `unexpected_percent` = 0.0% dari 2000 elemen → seluruh nilai sesuai dengan ekspektasi yang didefinisikan; konsistensi ID terjaga.\n",
    "\n",
    "3. Kelengkapan Data: `missing_count` = 0 dan `missing_percent` = 0.0% → tidak ada nilai yang hilang pada kolom ini; integritas data terjamin.\n",
    "\n",
    "4. Kesiapan Data: Tanpa `unexpected values` dan `missing values`, `shipment_id` siap dipakai sebagai primary key/identifier untuk analisis dan visualisasi.\n",
    "\n",
    "5. ETL Effectiveness: Hasil ini memvalidasi keberhasilan proses pembersihan/ETL dalam menstandarkan format ID pengiriman secara konsisten."
   ]
  },
  {
   "cell_type": "markdown",
   "id": "c10f87fb",
   "metadata": {},
   "source": [
    "### 4.6 Not To Be Null"
   ]
  },
  {
   "cell_type": "code",
   "execution_count": 12,
   "id": "1538d0d9",
   "metadata": {},
   "outputs": [
    {
     "data": {
      "application/vnd.jupyter.widget-view+json": {
       "model_id": "2c53af45f3dd4faeb5e45197b507b0d4",
       "version_major": 2,
       "version_minor": 0
      },
      "text/plain": [
       "Calculating Metrics:   0%|          | 0/6 [00:00<?, ?it/s]"
      ]
     },
     "metadata": {},
     "output_type": "display_data"
    },
    {
     "data": {
      "text/plain": [
       "{\n",
       "  \"success\": true,\n",
       "  \"result\": {\n",
       "    \"element_count\": 2000,\n",
       "    \"unexpected_count\": 0,\n",
       "    \"unexpected_percent\": 0.0,\n",
       "    \"partial_unexpected_list\": []\n",
       "  },\n",
       "  \"meta\": {},\n",
       "  \"exception_info\": {\n",
       "    \"raised_exception\": false,\n",
       "    \"exception_traceback\": null,\n",
       "    \"exception_message\": null\n",
       "  }\n",
       "}"
      ]
     },
     "execution_count": 12,
     "metadata": {},
     "output_type": "execute_result"
    }
   ],
   "source": [
    "validator.expect_column_values_to_not_be_null(column=\"cost\")"
   ]
  },
  {
   "cell_type": "markdown",
   "id": "209593cc",
   "metadata": {},
   "source": [
    "<div align=\"justify\">\n",
    "\n",
    "Berdasarkan Hasil Validasi GX:\n",
    "\n",
    "1. Sudah True (Sesuai Dengan Rule Yang Dibuat): `expect_column_values_to_not_be_null(column=\"cost\")` terpenuhi untuk seluruh baris.\n",
    "\n",
    "2. Data Quality: `unexpected_count` = 0 dan `unexpected_percent` = 0.0% dari 2000 elemen, artinya semua nilai telah memenuhi aturan.\n",
    "\n",
    "3. Kelengkapan Data: Tidak ditemukan missing value/null pada `cost`, sehingga integritas dan kelengkapan kolom terjaga.\n",
    "\n",
    "4. Kesiapan Data: Kolom `cost` siap untuk agregasi & analisis (sum/mean) tanpa perlu imputasi atau dropna.\n",
    "\n",
    "5. ETL Effectiveness: Mengonfirmasi proses pembersihan/ETL berhasil memastikan `cost` bebas dari missing values."
   ]
  },
  {
   "cell_type": "markdown",
   "id": "91d060ed",
   "metadata": {},
   "source": [
    "### 4.7 Table Columns To Match Ordered List"
   ]
  },
  {
   "cell_type": "code",
   "execution_count": 13,
   "id": "57bc0534",
   "metadata": {},
   "outputs": [
    {
     "data": {
      "application/vnd.jupyter.widget-view+json": {
       "model_id": "56abb2afcb924554bfcc2eddd8de5978",
       "version_major": 2,
       "version_minor": 0
      },
      "text/plain": [
       "Calculating Metrics:   0%|          | 0/2 [00:00<?, ?it/s]"
      ]
     },
     "metadata": {},
     "output_type": "display_data"
    },
    {
     "data": {
      "text/plain": [
       "{\n",
       "  \"success\": true,\n",
       "  \"result\": {\n",
       "    \"observed_value\": [\n",
       "      \"shipment_id\",\n",
       "      \"origin_warehouse\",\n",
       "      \"destination\",\n",
       "      \"carrier\",\n",
       "      \"shipment_date\",\n",
       "      \"delivery_date\",\n",
       "      \"weight_kg\",\n",
       "      \"cost\",\n",
       "      \"status\",\n",
       "      \"distance_miles\",\n",
       "      \"transit_days\"\n",
       "    ]\n",
       "  },\n",
       "  \"meta\": {},\n",
       "  \"exception_info\": {\n",
       "    \"raised_exception\": false,\n",
       "    \"exception_traceback\": null,\n",
       "    \"exception_message\": null\n",
       "  }\n",
       "}"
      ]
     },
     "execution_count": 13,
     "metadata": {},
     "output_type": "execute_result"
    }
   ],
   "source": [
    "column_list = ['shipment_id', 'origin_warehouse', 'destination', 'carrier',\n",
    "       'shipment_date', 'delivery_date', 'weight_kg', 'cost', 'status',\n",
    "       'distance_miles', 'transit_days']\n",
    "\n",
    "validator.expect_table_columns_to_match_ordered_list(column_list)"
   ]
  },
  {
   "cell_type": "markdown",
   "id": "c3bc5dad",
   "metadata": {},
   "source": [
    "<div align=\"justify\">\n",
    "\n",
    "Berdasarkan Hasil Validasi GX:\n",
    "\n",
    "1. Sudah True (Sesuai Dengan Rule Yang Dibuat): Urutan dan nama kolom persis sama dengan list yang ditentukan.\n",
    "\n",
    "2. Data Quality: `observed_value` menunjukkan struktur tabel identik dengan skema yang diharapkan, tidak ada kolom yang salah nama/berlebih/kurang.\n",
    "\n",
    "3. Kelengkapan Data (Skema): Tidak ada kolom yang hilang; skema lengkap sesuai definisi sehingga mengurangi risiko error saat join, agregasi, atau visualisasi.\n",
    "\n",
    "4. Kesiapan Data: Dengan skema yang konsisten, pipeline/skrip downstream aman untuk dijalankan tanpa penyesuaian kolom.\n",
    "\n",
    "5. ETL Effectiveness: Memvalidasi bahwa proses ETL menjaga stabilitas skema (termasuk urutan kolom), menandakan kontrol perubahan yang baik."
   ]
  },
  {
   "cell_type": "markdown",
   "id": "ca05c9ae",
   "metadata": {},
   "source": [
    "## 5. Validator Saving"
   ]
  },
  {
   "cell_type": "markdown",
   "id": "9dcf6247",
   "metadata": {},
   "source": [
    "<div align=\"justify\">\n",
    "\n",
    "Setelah dilakukannya semua validasi, kemudian menyimpan semua expectations yang sudah dibuat ke dalam expectation suite di Great Expectations."
   ]
  },
  {
   "cell_type": "code",
   "execution_count": 14,
   "id": "a5a9be37",
   "metadata": {},
   "outputs": [],
   "source": [
    "validator.save_expectation_suite(discard_failed_expectations=False)"
   ]
  },
  {
   "cell_type": "markdown",
   "id": "eb41fc7d",
   "metadata": {},
   "source": [
    "## 6. Validator Checkpoint"
   ]
  },
  {
   "cell_type": "code",
   "execution_count": 15,
   "id": "7395a66b",
   "metadata": {},
   "outputs": [
    {
     "data": {
      "application/vnd.jupyter.widget-view+json": {
       "model_id": "36efcd43e1d9481e8db403d9cbc4f952",
       "version_major": 2,
       "version_minor": 0
      },
      "text/plain": [
       "Calculating Metrics:   0%|          | 0/34 [00:00<?, ?it/s]"
      ]
     },
     "metadata": {},
     "output_type": "display_data"
    }
   ],
   "source": [
    "base_dir = Path(csv_path).resolve().parent\n",
    "asset_name = Path(csv_path).stem  # \"P2M3_muhammad_al_ghifari_data_cleaned\"\n",
    "\n",
    "# Datasource untuk filesystem (absolute base_directory)\n",
    "context.add_or_update_datasource(\n",
    "    name=\"file_system_datasource\",\n",
    "    class_name=\"Datasource\",\n",
    "    execution_engine={\"class_name\": \"PandasExecutionEngine\"},\n",
    "    data_connectors={\n",
    "        \"default_inferred_data_connector_name\": {\n",
    "            \"class_name\": \"InferredAssetFilesystemDataConnector\",\n",
    "            \"base_directory\": str(base_dir),\n",
    "            \"default_regex\": {\n",
    "                \"pattern\": r\"(.*)\\.csv\",\n",
    "                \"group_names\": [\"data_asset_name\"],\n",
    "            },\n",
    "        }\n",
    "    },\n",
    ")\n",
    "\n",
    "# Checkpoint\n",
    "checkpoint = context.add_or_update_checkpoint(\n",
    "    name=\"Checkpoint_P2M3\",\n",
    "    validations=[{\n",
    "        \"batch_request\": {\n",
    "            \"datasource_name\": \"file_system_datasource\",\n",
    "            \"data_connector_name\": \"default_inferred_data_connector_name\",\n",
    "            \"data_asset_name\": \"P2M3_muhammad_al_ghifari_data_cleaned\",\n",
    "            \"batch_spec_passthrough\": {\n",
    "                \"reader_options\": {\n",
    "                    \"parse_dates\": [\"shipment_date\", \"delivery_date\"]\n",
    "                }\n",
    "            }\n",
    "        },\n",
    "        \"expectation_suite_name\": \"P2M3_data_suite_muhammad_al_ghifari\",\n",
    "    }],\n",
    "    action_list=[\n",
    "        {\"name\": \"store_validation_result\", \"action\": {\"class_name\": \"StoreValidationResultAction\"}},\n",
    "        {\"name\": \"update_data_docs\", \"action\": {\"class_name\": \"UpdateDataDocsAction\"}},\n",
    "    ]\n",
    ")\n",
    "checkpoint_result = checkpoint.run()"
   ]
  },
  {
   "cell_type": "code",
   "execution_count": 16,
   "id": "b6ec691a",
   "metadata": {},
   "outputs": [
    {
     "data": {
      "text/plain": [
       "{\n",
       "  \"run_id\": {\n",
       "    \"run_name\": null,\n",
       "    \"run_time\": \"2025-09-01T21:37:38.151326+07:00\"\n",
       "  },\n",
       "  \"run_results\": {\n",
       "    \"ValidationResultIdentifier::P2M3_data_suite_muhammad_al_ghifari/__none__/20250901T143738.151326Z/72ef307c40a8631ce6fd4dc2a0796f2e\": {\n",
       "      \"validation_result\": {\n",
       "        \"success\": true,\n",
       "        \"results\": [\n",
       "          {\n",
       "            \"success\": true,\n",
       "            \"expectation_config\": {\n",
       "              \"expectation_type\": \"expect_column_values_to_be_unique\",\n",
       "              \"kwargs\": {\n",
       "                \"column\": \"shipment_id\",\n",
       "                \"batch_id\": \"72ef307c40a8631ce6fd4dc2a0796f2e\"\n",
       "              },\n",
       "              \"meta\": {}\n",
       "            },\n",
       "            \"result\": {\n",
       "              \"element_count\": 2000,\n",
       "              \"unexpected_count\": 0,\n",
       "              \"unexpected_percent\": 0.0,\n",
       "              \"partial_unexpected_list\": [],\n",
       "              \"missing_count\": 0,\n",
       "              \"missing_percent\": 0.0,\n",
       "              \"unexpected_percent_total\": 0.0,\n",
       "              \"unexpected_percent_nonmissing\": 0.0,\n",
       "              \"partial_unexpected_counts\": [],\n",
       "              \"partial_unexpected_index_list\": []\n",
       "            },\n",
       "            \"meta\": {},\n",
       "            \"exception_info\": {\n",
       "              \"raised_exception\": false,\n",
       "              \"exception_traceback\": null,\n",
       "              \"exception_message\": null\n",
       "            }\n",
       "          },\n",
       "          {\n",
       "            \"success\": true,\n",
       "            \"expectation_config\": {\n",
       "              \"expectation_type\": \"expect_column_values_to_match_regex\",\n",
       "              \"kwargs\": {\n",
       "                \"column\": \"shipment_id\",\n",
       "                \"regex\": \"^SH\\\\d{5}$\",\n",
       "                \"batch_id\": \"72ef307c40a8631ce6fd4dc2a0796f2e\"\n",
       "              },\n",
       "              \"meta\": {}\n",
       "            },\n",
       "            \"result\": {\n",
       "              \"element_count\": 2000,\n",
       "              \"unexpected_count\": 0,\n",
       "              \"unexpected_percent\": 0.0,\n",
       "              \"partial_unexpected_list\": [],\n",
       "              \"missing_count\": 0,\n",
       "              \"missing_percent\": 0.0,\n",
       "              \"unexpected_percent_total\": 0.0,\n",
       "              \"unexpected_percent_nonmissing\": 0.0,\n",
       "              \"partial_unexpected_counts\": [],\n",
       "              \"partial_unexpected_index_list\": []\n",
       "            },\n",
       "            \"meta\": {},\n",
       "            \"exception_info\": {\n",
       "              \"raised_exception\": false,\n",
       "              \"exception_traceback\": null,\n",
       "              \"exception_message\": null\n",
       "            }\n",
       "          },\n",
       "          {\n",
       "            \"success\": true,\n",
       "            \"expectation_config\": {\n",
       "              \"expectation_type\": \"expect_column_values_to_be_between\",\n",
       "              \"kwargs\": {\n",
       "                \"column\": \"transit_days\",\n",
       "                \"max_value\": 15,\n",
       "                \"min_value\": 0,\n",
       "                \"batch_id\": \"72ef307c40a8631ce6fd4dc2a0796f2e\"\n",
       "              },\n",
       "              \"meta\": {}\n",
       "            },\n",
       "            \"result\": {\n",
       "              \"element_count\": 2000,\n",
       "              \"unexpected_count\": 0,\n",
       "              \"unexpected_percent\": 0.0,\n",
       "              \"partial_unexpected_list\": [],\n",
       "              \"missing_count\": 0,\n",
       "              \"missing_percent\": 0.0,\n",
       "              \"unexpected_percent_total\": 0.0,\n",
       "              \"unexpected_percent_nonmissing\": 0.0,\n",
       "              \"partial_unexpected_counts\": [],\n",
       "              \"partial_unexpected_index_list\": []\n",
       "            },\n",
       "            \"meta\": {},\n",
       "            \"exception_info\": {\n",
       "              \"raised_exception\": false,\n",
       "              \"exception_traceback\": null,\n",
       "              \"exception_message\": null\n",
       "            }\n",
       "          },\n",
       "          {\n",
       "            \"success\": true,\n",
       "            \"expectation_config\": {\n",
       "              \"expectation_type\": \"expect_column_values_to_be_in_set\",\n",
       "              \"kwargs\": {\n",
       "                \"column\": \"status\",\n",
       "                \"value_set\": [\n",
       "                  \"Delivered\",\n",
       "                  \"In Transit\",\n",
       "                  \"Delayed\",\n",
       "                  \"Canceled\",\n",
       "                  \"Returned\",\n",
       "                  \"Lost\"\n",
       "                ],\n",
       "                \"batch_id\": \"72ef307c40a8631ce6fd4dc2a0796f2e\"\n",
       "              },\n",
       "              \"meta\": {}\n",
       "            },\n",
       "            \"result\": {\n",
       "              \"element_count\": 2000,\n",
       "              \"unexpected_count\": 0,\n",
       "              \"unexpected_percent\": 0.0,\n",
       "              \"partial_unexpected_list\": [],\n",
       "              \"missing_count\": 0,\n",
       "              \"missing_percent\": 0.0,\n",
       "              \"unexpected_percent_total\": 0.0,\n",
       "              \"unexpected_percent_nonmissing\": 0.0,\n",
       "              \"partial_unexpected_counts\": [],\n",
       "              \"partial_unexpected_index_list\": []\n",
       "            },\n",
       "            \"meta\": {},\n",
       "            \"exception_info\": {\n",
       "              \"raised_exception\": false,\n",
       "              \"exception_traceback\": null,\n",
       "              \"exception_message\": null\n",
       "            }\n",
       "          },\n",
       "          {\n",
       "            \"success\": true,\n",
       "            \"expectation_config\": {\n",
       "              \"expectation_type\": \"expect_column_values_to_be_in_type_list\",\n",
       "              \"kwargs\": {\n",
       "                \"column\": \"shipment_date\",\n",
       "                \"type_list\": [\n",
       "                  \"datetime64[ns]\",\n",
       "                  \"datetime64[ns, UTC]\"\n",
       "                ],\n",
       "                \"batch_id\": \"72ef307c40a8631ce6fd4dc2a0796f2e\"\n",
       "              },\n",
       "              \"meta\": {}\n",
       "            },\n",
       "            \"result\": {\n",
       "              \"observed_value\": \"datetime64\"\n",
       "            },\n",
       "            \"meta\": {},\n",
       "            \"exception_info\": {\n",
       "              \"raised_exception\": false,\n",
       "              \"exception_traceback\": null,\n",
       "              \"exception_message\": null\n",
       "            }\n",
       "          },\n",
       "          {\n",
       "            \"success\": true,\n",
       "            \"expectation_config\": {\n",
       "              \"expectation_type\": \"expect_column_values_to_be_in_type_list\",\n",
       "              \"kwargs\": {\n",
       "                \"column\": \"delivery_date\",\n",
       "                \"type_list\": [\n",
       "                  \"datetime64[ns]\",\n",
       "                  \"datetime64[ns, UTC]\"\n",
       "                ],\n",
       "                \"batch_id\": \"72ef307c40a8631ce6fd4dc2a0796f2e\"\n",
       "              },\n",
       "              \"meta\": {}\n",
       "            },\n",
       "            \"result\": {\n",
       "              \"observed_value\": \"datetime64\"\n",
       "            },\n",
       "            \"meta\": {},\n",
       "            \"exception_info\": {\n",
       "              \"raised_exception\": false,\n",
       "              \"exception_traceback\": null,\n",
       "              \"exception_message\": null\n",
       "            }\n",
       "          },\n",
       "          {\n",
       "            \"success\": true,\n",
       "            \"expectation_config\": {\n",
       "              \"expectation_type\": \"expect_column_values_to_not_be_null\",\n",
       "              \"kwargs\": {\n",
       "                \"column\": \"cost\",\n",
       "                \"batch_id\": \"72ef307c40a8631ce6fd4dc2a0796f2e\"\n",
       "              },\n",
       "              \"meta\": {}\n",
       "            },\n",
       "            \"result\": {\n",
       "              \"element_count\": 2000,\n",
       "              \"unexpected_count\": 0,\n",
       "              \"unexpected_percent\": 0.0,\n",
       "              \"partial_unexpected_list\": [],\n",
       "              \"partial_unexpected_counts\": [],\n",
       "              \"partial_unexpected_index_list\": []\n",
       "            },\n",
       "            \"meta\": {},\n",
       "            \"exception_info\": {\n",
       "              \"raised_exception\": false,\n",
       "              \"exception_traceback\": null,\n",
       "              \"exception_message\": null\n",
       "            }\n",
       "          },\n",
       "          {\n",
       "            \"success\": true,\n",
       "            \"expectation_config\": {\n",
       "              \"expectation_type\": \"expect_table_columns_to_match_ordered_list\",\n",
       "              \"kwargs\": {\n",
       "                \"column_list\": [\n",
       "                  \"shipment_id\",\n",
       "                  \"origin_warehouse\",\n",
       "                  \"destination\",\n",
       "                  \"carrier\",\n",
       "                  \"shipment_date\",\n",
       "                  \"delivery_date\",\n",
       "                  \"weight_kg\",\n",
       "                  \"cost\",\n",
       "                  \"status\",\n",
       "                  \"distance_miles\",\n",
       "                  \"transit_days\"\n",
       "                ],\n",
       "                \"batch_id\": \"72ef307c40a8631ce6fd4dc2a0796f2e\"\n",
       "              },\n",
       "              \"meta\": {}\n",
       "            },\n",
       "            \"result\": {\n",
       "              \"observed_value\": [\n",
       "                \"shipment_id\",\n",
       "                \"origin_warehouse\",\n",
       "                \"destination\",\n",
       "                \"carrier\",\n",
       "                \"shipment_date\",\n",
       "                \"delivery_date\",\n",
       "                \"weight_kg\",\n",
       "                \"cost\",\n",
       "                \"status\",\n",
       "                \"distance_miles\",\n",
       "                \"transit_days\"\n",
       "              ]\n",
       "            },\n",
       "            \"meta\": {},\n",
       "            \"exception_info\": {\n",
       "              \"raised_exception\": false,\n",
       "              \"exception_traceback\": null,\n",
       "              \"exception_message\": null\n",
       "            }\n",
       "          }\n",
       "        ],\n",
       "        \"evaluation_parameters\": {},\n",
       "        \"statistics\": {\n",
       "          \"evaluated_expectations\": 8,\n",
       "          \"successful_expectations\": 8,\n",
       "          \"unsuccessful_expectations\": 0,\n",
       "          \"success_percent\": 100.0\n",
       "        },\n",
       "        \"meta\": {\n",
       "          \"great_expectations_version\": \"0.18.22\",\n",
       "          \"expectation_suite_name\": \"P2M3_data_suite_muhammad_al_ghifari\",\n",
       "          \"run_id\": {\n",
       "            \"run_name\": null,\n",
       "            \"run_time\": \"2025-09-01T21:37:38.151326+07:00\"\n",
       "          },\n",
       "          \"batch_spec\": {\n",
       "            \"path\": \"/Users/alghfrimh/Folder GitHub/Milestone/Milestone 3/p2-ftds030-hck-m3-alghfrimh/data/P2M3_muhammad_al_ghifari_data_cleaned.csv\",\n",
       "            \"reader_options\": {\n",
       "              \"parse_dates\": [\n",
       "                \"shipment_date\",\n",
       "                \"delivery_date\"\n",
       "              ]\n",
       "            }\n",
       "          },\n",
       "          \"batch_markers\": {\n",
       "            \"ge_load_time\": \"20250901T143738.153564Z\",\n",
       "            \"pandas_data_fingerprint\": \"67da68971844467f2d2b20d4fcf9ded4\"\n",
       "          },\n",
       "          \"active_batch_definition\": {\n",
       "            \"datasource_name\": \"file_system_datasource\",\n",
       "            \"data_connector_name\": \"default_inferred_data_connector_name\",\n",
       "            \"data_asset_name\": \"P2M3_muhammad_al_ghifari_data_cleaned\",\n",
       "            \"batch_identifiers\": {},\n",
       "            \"batch_spec_passthrough\": {\n",
       "              \"reader_options\": {\n",
       "                \"parse_dates\": [\n",
       "                  \"shipment_date\",\n",
       "                  \"delivery_date\"\n",
       "                ]\n",
       "              }\n",
       "            }\n",
       "          },\n",
       "          \"validation_time\": \"20250901T143738.161974Z\",\n",
       "          \"checkpoint_name\": \"Checkpoint_P2M3\",\n",
       "          \"validation_id\": null,\n",
       "          \"checkpoint_id\": null\n",
       "        }\n",
       "      },\n",
       "      \"actions_results\": {\n",
       "        \"store_validation_result\": {\n",
       "          \"class\": \"StoreValidationResultAction\"\n",
       "        },\n",
       "        \"update_data_docs\": {\n",
       "          \"local_site\": \"file:///var/folders/2j/1mq11gq56dv_55_8qm5qf_z80000gn/T/tmpehp9f_qs/validations/P2M3_data_suite_muhammad_al_ghifari/__none__/20250901T143738.151326Z/72ef307c40a8631ce6fd4dc2a0796f2e.html\",\n",
       "          \"class\": \"UpdateDataDocsAction\"\n",
       "        }\n",
       "      }\n",
       "    }\n",
       "  },\n",
       "  \"checkpoint_config\": {\n",
       "    \"run_name_template\": null,\n",
       "    \"runtime_configuration\": {},\n",
       "    \"expectation_suite_ge_cloud_id\": null,\n",
       "    \"profilers\": [],\n",
       "    \"name\": \"Checkpoint_P2M3\",\n",
       "    \"evaluation_parameters\": {},\n",
       "    \"slack_webhook\": null,\n",
       "    \"template_name\": null,\n",
       "    \"site_names\": null,\n",
       "    \"notify_with\": null,\n",
       "    \"validations\": [\n",
       "      {\n",
       "        \"id\": null,\n",
       "        \"name\": null,\n",
       "        \"expectation_suite_name\": \"P2M3_data_suite_muhammad_al_ghifari\",\n",
       "        \"batch_request\": {\n",
       "          \"datasource_name\": \"file_system_datasource\",\n",
       "          \"data_connector_name\": \"default_inferred_data_connector_name\",\n",
       "          \"data_asset_name\": \"P2M3_muhammad_al_ghifari_data_cleaned\",\n",
       "          \"batch_spec_passthrough\": {\n",
       "            \"reader_options\": {\n",
       "              \"parse_dates\": [\n",
       "                \"shipment_date\",\n",
       "                \"delivery_date\"\n",
       "              ]\n",
       "            }\n",
       "          }\n",
       "        },\n",
       "        \"expectation_suite_ge_cloud_id\": null\n",
       "      }\n",
       "    ],\n",
       "    \"expectation_suite_name\": null,\n",
       "    \"config_version\": 1.0,\n",
       "    \"default_validation_id\": null,\n",
       "    \"module_name\": \"great_expectations.checkpoint\",\n",
       "    \"notify_on\": null,\n",
       "    \"class_name\": \"Checkpoint\",\n",
       "    \"ge_cloud_id\": null,\n",
       "    \"action_list\": [\n",
       "      {\n",
       "        \"name\": \"store_validation_result\",\n",
       "        \"action\": {\n",
       "          \"class_name\": \"StoreValidationResultAction\"\n",
       "        }\n",
       "      },\n",
       "      {\n",
       "        \"name\": \"update_data_docs\",\n",
       "        \"action\": {\n",
       "          \"class_name\": \"UpdateDataDocsAction\"\n",
       "        }\n",
       "      }\n",
       "    ],\n",
       "    \"batch_request\": {}\n",
       "  },\n",
       "  \"success\": true\n",
       "}"
      ]
     },
     "execution_count": 16,
     "metadata": {},
     "output_type": "execute_result"
    }
   ],
   "source": [
    "# Menjalankan Function Checkpoint Yang Di Define Diatas\n",
    "checkpoint_result"
   ]
  },
  {
   "cell_type": "markdown",
   "id": "f9963185",
   "metadata": {},
   "source": [
    "<div align=\"justify\">\n",
    "\n",
    "Semua hasil pemeriksaan di atas menunjukkan bahwa validasi yang telah disimpan berhasil, artinya semua validasi untuk dataset yang telah dibersihkan melalui preprocessing ini berhasil dan siap untuk dilakukannya analisis dan visualisasi lebih lanjut di Elasticsearch-Kibana."
   ]
  },
  {
   "cell_type": "markdown",
   "id": "26c62d69",
   "metadata": {},
   "source": [
    "## 7. Data Documentations"
   ]
  },
  {
   "cell_type": "code",
   "execution_count": 17,
   "id": "42ec6c22",
   "metadata": {},
   "outputs": [
    {
     "data": {
      "text/plain": [
       "{'local_site': 'file:///var/folders/2j/1mq11gq56dv_55_8qm5qf_z80000gn/T/tmpehp9f_qs/index.html'}"
      ]
     },
     "execution_count": 17,
     "metadata": {},
     "output_type": "execute_result"
    }
   ],
   "source": [
    "# Membuat dokumentasi validator\n",
    "context.build_data_docs()"
   ]
  },
  {
   "cell_type": "code",
   "execution_count": 18,
   "id": "c85c26c5",
   "metadata": {},
   "outputs": [],
   "source": [
    "# Membuka dokumentasi validator\n",
    "context.open_data_docs()"
   ]
  },
  {
   "cell_type": "markdown",
   "id": "75639f92",
   "metadata": {},
   "source": [
    "## 8. Conclusion"
   ]
  },
  {
   "cell_type": "markdown",
   "id": "af76e6b8",
   "metadata": {},
   "source": [
    "<div align=\"justify\">\n",
    "\n",
    "Berdasarkan Hasil Semua Validasi GX, diantaranya:\n",
    "\n",
    "**1. To be Unique - Success**\n",
    "\n",
    "**2. To Be Between Min Value And Max Value - Success**\n",
    "\n",
    "**3. To Be In Set - Success**\n",
    "\n",
    "**4. To Be In Type List - Success**\n",
    "\n",
    "**5. To Match Regex - Success**\n",
    "\n",
    "**6. Not To Be Null - Success**\n",
    "\n",
    "**7. Table Columns To Match Ordered List - Success**\n",
    "\n",
    "Hasil dari GX Validasi ini bisa dibuktikan dengan hasil dokumen yang sudah didapat ke dalam `P2M3_muhammad_al_ghifari_GX_result.png`"
   ]
  }
 ],
 "metadata": {
  "kernelspec": {
   "display_name": "h8_env",
   "language": "python",
   "name": "python3"
  },
  "language_info": {
   "codemirror_mode": {
    "name": "ipython",
    "version": 3
   },
   "file_extension": ".py",
   "mimetype": "text/x-python",
   "name": "python",
   "nbconvert_exporter": "python",
   "pygments_lexer": "ipython3",
   "version": "3.10.18"
  }
 },
 "nbformat": 4,
 "nbformat_minor": 5
}
